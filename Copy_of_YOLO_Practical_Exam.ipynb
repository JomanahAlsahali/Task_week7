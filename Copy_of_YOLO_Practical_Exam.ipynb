{
  "cells": [
    {
      "cell_type": "markdown",
      "id": "fd8284c7",
      "metadata": {
        "id": "fd8284c7"
      },
      "source": [
        "# Road Traffic Vehicle Counting Exam"
      ]
    },
    {
      "cell_type": "markdown",
      "id": "90e8c1a5",
      "metadata": {
        "id": "90e8c1a5"
      },
      "source": [
        "In this exam, you will use the YOLO (You Only Look Once) object detection model to analyze a video of road traffic. Your primary task is to count the number of vehicles exiting the road at each of the four exits (located at the top, bottom, left, and right of the frame). The video for this task is provided at `Datasets/YOLO_Exam_Video.mp4`.\n",
        "\n",
        "## Objectives\n",
        "- Load and process the video using OpenCV.\n",
        "- Utilize the YOLO model to detect vehicles in each frame.\n",
        "- Manipulate the video frames using OpenCV.\n",
        "- Track vehicles as they move across the video frames.\n",
        "- Count the number of vehicles exiting via the top street.\n",
        "- Count the number of vehicles exiting via the bottom street.\n",
        "- Count the number of vehicles exiting via the left street.\n",
        "- Count the number of vehicles exiting via the right street.\n"
      ]
    },
    {
      "cell_type": "markdown",
      "id": "c7269b0e",
      "metadata": {
        "id": "c7269b0e"
      },
      "source": [
        "## Setup Environment"
      ]
    },
    {
      "cell_type": "markdown",
      "id": "2fd3bce8",
      "metadata": {
        "id": "2fd3bce8"
      },
      "source": [
        "Before you begin, ensure you have the necessary libraries installed. You will need `opencv`, and `ultralytics` among others.\n",
        "If these are not installed, you should install them."
      ]
    },
    {
      "cell_type": "code",
      "execution_count": 3,
      "id": "e48a05c4",
      "metadata": {
        "vscode": {
          "languageId": "plaintext"
        },
        "id": "e48a05c4",
        "colab": {
          "base_uri": "https://localhost:8080/"
        },
        "collapsed": true,
        "outputId": "aa0897c6-2be7-4073-e7f0-99a4353ec6ce"
      },
      "outputs": [
        {
          "output_type": "stream",
          "name": "stdout",
          "text": [
            "Requirement already satisfied: opencv-python in /usr/local/lib/python3.10/dist-packages (4.10.0.84)\n",
            "Requirement already satisfied: ultralytics in /usr/local/lib/python3.10/dist-packages (8.2.85)\n",
            "Requirement already satisfied: numpy>=1.21.2 in /usr/local/lib/python3.10/dist-packages (from opencv-python) (1.26.4)\n",
            "Requirement already satisfied: matplotlib>=3.3.0 in /usr/local/lib/python3.10/dist-packages (from ultralytics) (3.7.1)\n",
            "Requirement already satisfied: pillow>=7.1.2 in /usr/local/lib/python3.10/dist-packages (from ultralytics) (9.4.0)\n",
            "Requirement already satisfied: pyyaml>=5.3.1 in /usr/local/lib/python3.10/dist-packages (from ultralytics) (6.0.2)\n",
            "Requirement already satisfied: requests>=2.23.0 in /usr/local/lib/python3.10/dist-packages (from ultralytics) (2.32.3)\n",
            "Requirement already satisfied: scipy>=1.4.1 in /usr/local/lib/python3.10/dist-packages (from ultralytics) (1.13.1)\n",
            "Requirement already satisfied: torch>=1.8.0 in /usr/local/lib/python3.10/dist-packages (from ultralytics) (2.4.0+cu121)\n",
            "Requirement already satisfied: torchvision>=0.9.0 in /usr/local/lib/python3.10/dist-packages (from ultralytics) (0.19.0+cu121)\n",
            "Requirement already satisfied: tqdm>=4.64.0 in /usr/local/lib/python3.10/dist-packages (from ultralytics) (4.66.5)\n",
            "Requirement already satisfied: psutil in /usr/local/lib/python3.10/dist-packages (from ultralytics) (5.9.5)\n",
            "Requirement already satisfied: py-cpuinfo in /usr/local/lib/python3.10/dist-packages (from ultralytics) (9.0.0)\n",
            "Requirement already satisfied: pandas>=1.1.4 in /usr/local/lib/python3.10/dist-packages (from ultralytics) (2.1.4)\n",
            "Requirement already satisfied: seaborn>=0.11.0 in /usr/local/lib/python3.10/dist-packages (from ultralytics) (0.13.1)\n",
            "Requirement already satisfied: ultralytics-thop>=2.0.0 in /usr/local/lib/python3.10/dist-packages (from ultralytics) (2.0.6)\n",
            "Requirement already satisfied: contourpy>=1.0.1 in /usr/local/lib/python3.10/dist-packages (from matplotlib>=3.3.0->ultralytics) (1.2.1)\n",
            "Requirement already satisfied: cycler>=0.10 in /usr/local/lib/python3.10/dist-packages (from matplotlib>=3.3.0->ultralytics) (0.12.1)\n",
            "Requirement already satisfied: fonttools>=4.22.0 in /usr/local/lib/python3.10/dist-packages (from matplotlib>=3.3.0->ultralytics) (4.53.1)\n",
            "Requirement already satisfied: kiwisolver>=1.0.1 in /usr/local/lib/python3.10/dist-packages (from matplotlib>=3.3.0->ultralytics) (1.4.5)\n",
            "Requirement already satisfied: packaging>=20.0 in /usr/local/lib/python3.10/dist-packages (from matplotlib>=3.3.0->ultralytics) (24.1)\n",
            "Requirement already satisfied: pyparsing>=2.3.1 in /usr/local/lib/python3.10/dist-packages (from matplotlib>=3.3.0->ultralytics) (3.1.4)\n",
            "Requirement already satisfied: python-dateutil>=2.7 in /usr/local/lib/python3.10/dist-packages (from matplotlib>=3.3.0->ultralytics) (2.8.2)\n",
            "Requirement already satisfied: pytz>=2020.1 in /usr/local/lib/python3.10/dist-packages (from pandas>=1.1.4->ultralytics) (2024.1)\n",
            "Requirement already satisfied: tzdata>=2022.1 in /usr/local/lib/python3.10/dist-packages (from pandas>=1.1.4->ultralytics) (2024.1)\n",
            "Requirement already satisfied: charset-normalizer<4,>=2 in /usr/local/lib/python3.10/dist-packages (from requests>=2.23.0->ultralytics) (3.3.2)\n",
            "Requirement already satisfied: idna<4,>=2.5 in /usr/local/lib/python3.10/dist-packages (from requests>=2.23.0->ultralytics) (3.8)\n",
            "Requirement already satisfied: urllib3<3,>=1.21.1 in /usr/local/lib/python3.10/dist-packages (from requests>=2.23.0->ultralytics) (2.0.7)\n",
            "Requirement already satisfied: certifi>=2017.4.17 in /usr/local/lib/python3.10/dist-packages (from requests>=2.23.0->ultralytics) (2024.7.4)\n",
            "Requirement already satisfied: filelock in /usr/local/lib/python3.10/dist-packages (from torch>=1.8.0->ultralytics) (3.15.4)\n",
            "Requirement already satisfied: typing-extensions>=4.8.0 in /usr/local/lib/python3.10/dist-packages (from torch>=1.8.0->ultralytics) (4.12.2)\n",
            "Requirement already satisfied: sympy in /usr/local/lib/python3.10/dist-packages (from torch>=1.8.0->ultralytics) (1.13.2)\n",
            "Requirement already satisfied: networkx in /usr/local/lib/python3.10/dist-packages (from torch>=1.8.0->ultralytics) (3.3)\n",
            "Requirement already satisfied: jinja2 in /usr/local/lib/python3.10/dist-packages (from torch>=1.8.0->ultralytics) (3.1.4)\n",
            "Requirement already satisfied: fsspec in /usr/local/lib/python3.10/dist-packages (from torch>=1.8.0->ultralytics) (2024.6.1)\n",
            "Requirement already satisfied: six>=1.5 in /usr/local/lib/python3.10/dist-packages (from python-dateutil>=2.7->matplotlib>=3.3.0->ultralytics) (1.16.0)\n",
            "Requirement already satisfied: MarkupSafe>=2.0 in /usr/local/lib/python3.10/dist-packages (from jinja2->torch>=1.8.0->ultralytics) (2.1.5)\n",
            "Requirement already satisfied: mpmath<1.4,>=1.1.0 in /usr/local/lib/python3.10/dist-packages (from sympy->torch>=1.8.0->ultralytics) (1.3.0)\n"
          ]
        }
      ],
      "source": [
        "! pip install opencv-python ultralytics"
      ]
    },
    {
      "cell_type": "code",
      "source": [
        "import cv2\n",
        "import numpy as np\n",
        "from ultralytics import YOLO"
      ],
      "metadata": {
        "id": "os1i7Vmj_yJl"
      },
      "id": "os1i7Vmj_yJl",
      "execution_count": 40,
      "outputs": []
    },
    {
      "cell_type": "markdown",
      "id": "a69c2ac2",
      "metadata": {
        "id": "a69c2ac2"
      },
      "source": [
        "## Load the YOLO Model"
      ]
    },
    {
      "cell_type": "markdown",
      "id": "145d70fc",
      "metadata": {
        "id": "145d70fc"
      },
      "source": [
        "You will first need to load the YOLO model, there is a custom model for this exam called `YOLO_Model.pt` under Datasets file ⚠️ PLEASE USE THIS MODEL AND DO NOT USE ANY OTHER MODEL ⚠️.\n",
        "Write the code to load the YOLO model below:"
      ]
    },
    {
      "cell_type": "code",
      "source": [
        "model = YOLO('/content/YOLO_Model.pt')"
      ],
      "metadata": {
        "id": "F6tkCRL7BKFC"
      },
      "id": "F6tkCRL7BKFC",
      "execution_count": 41,
      "outputs": []
    },
    {
      "cell_type": "markdown",
      "id": "cf691ac8",
      "metadata": {
        "id": "cf691ac8"
      },
      "source": [
        "## Prepare the Video Capture"
      ]
    },
    {
      "cell_type": "markdown",
      "metadata": {
        "id": "Nw9RSvKCdonK"
      },
      "source": [
        "Create a variable to capture the video frames, you can use `cv2.VideoCapture()` to achive this."
      ],
      "id": "Nw9RSvKCdonK"
    },
    {
      "cell_type": "code",
      "source": [
        "video_path = '/content/YOLO_Video.mp4'\n",
        "cap = cv2.VideoCapture(video_path)"
      ],
      "metadata": {
        "id": "dn-I7B6a_9L4"
      },
      "id": "dn-I7B6a_9L4",
      "execution_count": 42,
      "outputs": []
    },
    {
      "cell_type": "markdown",
      "id": "48757309",
      "metadata": {
        "id": "48757309"
      },
      "source": [
        "## Get Video Information"
      ]
    },
    {
      "cell_type": "markdown",
      "id": "b4f5d5bc",
      "metadata": {
        "id": "b4f5d5bc"
      },
      "source": [
        "You can use `cv2` library to get these information fro the `VideoCapture()` variable you created to extract these information:\n",
        "* `height`: Video's height.\n",
        "* `width`: Video's width.\n",
        "* `fps`: Video's frames."
      ]
    },
    {
      "cell_type": "code",
      "source": [
        "fps = cap.get(cv2.CAP_PROP_FPS)\n",
        "width = int(cap.get(cv2.CAP_PROP_FRAME_WIDTH))\n",
        "hieght = int(cap.get(cv2.CAP_PROP_FRAME_HEIGHT))\n",
        "\n",
        "# print the fps, width, hieght\n",
        "print(f'fps : {fps}, width : {width}, hieght : {hieght}')"
      ],
      "metadata": {
        "colab": {
          "base_uri": "https://localhost:8080/"
        },
        "id": "vBvd349eALDg",
        "outputId": "946be052-e29f-4d13-8c02-205ca463bcea"
      },
      "id": "vBvd349eALDg",
      "execution_count": 43,
      "outputs": [
        {
          "output_type": "stream",
          "name": "stdout",
          "text": [
            "fps : 29.97002997002997, width : 1920, hieght : 1080\n"
          ]
        }
      ]
    },
    {
      "cell_type": "markdown",
      "id": "3f241495",
      "metadata": {
        "id": "3f241495"
      },
      "source": [
        "## Prepare Video Writer to Store the Output"
      ]
    },
    {
      "cell_type": "markdown",
      "id": "9ef61a34",
      "metadata": {
        "id": "9ef61a34"
      },
      "source": [
        "Create a variable that uses `cv2.VideoCapture()` to save the video with the bounding boxes, specified Region of Interest rectangle (ROI) and the counted vehicles on each sides. You will need to make the video with the same `fps`, `width`, `height`, and specify the codec and output path of the video."
      ]
    },
    {
      "cell_type": "code",
      "source": [
        "fourcc = cv2.VideoWriter_fourcc(*'mp4v')\n",
        "output_path = 'output_YOLO_video.mp4'\n",
        "out = cv2.VideoWriter(output_path, fourcc, fps, (width, hieght))"
      ],
      "metadata": {
        "id": "w_zP_RalCZYj"
      },
      "id": "w_zP_RalCZYj",
      "execution_count": 44,
      "outputs": []
    },
    {
      "cell_type": "markdown",
      "id": "31e882a2",
      "metadata": {
        "id": "31e882a2"
      },
      "source": [
        "## Expermint to get the `(x1, y1, x2, y2)` of the ROI"
      ]
    },
    {
      "cell_type": "markdown",
      "id": "3b6e6d97",
      "metadata": {
        "id": "3b6e6d97"
      },
      "source": [
        "### Hint\n",
        "When defining the Regions of Interest (ROIs) for detecting vehicles exiting the road, consider the coordinates that outline the relevant areas. These coordinates can be specified as `(x1, y1, x2, y2)`, where `(x1, y1)` is the top-left corner and `(x2, y2)` is the bottom-right corner of the rectangle.\n",
        "\n",
        "Experiment with different coordinates to accurately cover the streets where vehicles exit. Visualize these ROIs by drawing rectangles on a frame of the video and adjust the coordinates as needed until you capture the desired areas effectively."
      ]
    },
    {
      "cell_type": "code",
      "source": [
        "# ROIs\n",
        "# Covering the Top of the street, (0,0) : this is the top-left corner, (width, height // 4) : this is the bottom-right.\n",
        "top = (0, 0, width, hieght // 4)\n",
        "\n",
        "# Covering the bottom of the street, (0, height * 3 // 4) : this is the top-left corner, (width, height) : this is the bottom-right corner.\n",
        "bottom = (0, hieght * 3 // 4, width, hieght)\n",
        "\n",
        "# Covering the left of the street, (0,0) : this is the top-left corner, (width // 4, height) : this is the bottom-right corner.\n",
        "left = (0, 0, width // 4, hieght)\n",
        "\n",
        "# Covering the right of the street, (width * 3 // 4, 0) : this is the top-left corner, (width, height) : this si the bottom-right corner.\n",
        "right = (width * 3 // 4, 0, width, hieght)\n"
      ],
      "metadata": {
        "id": "StGmF9hSDb5R"
      },
      "id": "StGmF9hSDb5R",
      "execution_count": 45,
      "outputs": []
    },
    {
      "cell_type": "code",
      "source": [
        "# this is function for ROIs\n",
        "def draw_rois(frame):\n",
        "  # Top\n",
        "  cv2.rectangle(frame, (top[0], top[1]), (top[2], top[3]), (0,0,255), 1) # the color here Red, thick is 1\n",
        "  # Bottom\n",
        "  cv2.rectangle(frame, (bottom[0],bottom[1]), (bottom[2], bottom[3]), (0,255,0), 1) # the color here is Green, thick is 1\n",
        "  # Left\n",
        "  cv2.rectangle(frame, (left[0], left[1], left[2], left[3]), (255,0,0), 1) # the coloe here is Blue, thick is 1\n",
        "  # Right\n",
        "  cv2.rectangle(frame, (right[0], right[1], right[2], right[3]), (255,255,0), 1) # the color here is light Blue , thick is 1"
      ],
      "metadata": {
        "id": "zOZ4956GLSP3"
      },
      "id": "zOZ4956GLSP3",
      "execution_count": 46,
      "outputs": []
    },
    {
      "cell_type": "markdown",
      "source": [
        " Details in ROIs function :\n",
        " * here in this cell the (x1,y1) is the top-left corner\n",
        " * and the (x2, y2) is the bottom-right corner\n",
        " * first am define a 4 variable for the coordenates (top, bottom, left, right)\n",
        "\n",
        " * then define a function draw_rois;\n",
        "    * in the first two parameters its the (x1,y1), and in the last two paramerters its (x2, y2) and the same in avery cv2.rectangle() function.\n",
        "    * choose a color for each rectangle, then chose the pexels for the rectangle thick."
      ],
      "metadata": {
        "id": "ryOG1o1RG_tD"
      },
      "id": "ryOG1o1RG_tD"
    },
    {
      "cell_type": "markdown",
      "id": "067dbc12",
      "metadata": {
        "id": "067dbc12"
      },
      "source": [
        "## Process Video Frames and Identify Vehicles Left the Road Form Each Street"
      ]
    },
    {
      "cell_type": "markdown",
      "id": "aa695d88",
      "metadata": {
        "id": "aa695d88"
      },
      "source": [
        "For each frame in the video, use the YOLO model to detect and track vehicles. You will need to write a loop that processes each frame and applies the YOLO model.\n",
        "\n",
        "In each frame, after detecting the vehicles, determine whether they exited the road via the top, bottom, left, or right street. You can use the positions of the bounding boxes provided by YOLO to do this.\n",
        "\n",
        "- The video should display bounding boxes around the detected objects.\n",
        "- The video should display your name on the top.\n",
        "- It should display the calculated center of each vehicle.\n",
        "- The video should display the confidence score, alongside the object ID and class ID of each detected and tracked object.\n",
        "- The video should display the rectangles representing the regions where you count the vehicles that have crossed and exited.\n",
        "- The video should display the number of vehicles that exited via the top street.\n",
        "- The video should display the number of vehicles that exited via the bottom street.\n",
        "- The video should display the number of vehicles that exited via the left street.\n",
        "- The video should display the number of vehicles that exited via the right street."
      ]
    },
    {
      "cell_type": "code",
      "source": [
        "# create variable for Top, bottom, Left, Right\n",
        "Top_count = 0\n",
        "Bottom_count = 0\n",
        "Left_count = 0\n",
        "Right_count = 0"
      ],
      "metadata": {
        "id": "-naw7KO2R1B-"
      },
      "id": "-naw7KO2R1B-",
      "execution_count": 47,
      "outputs": []
    },
    {
      "cell_type": "code",
      "source": [
        "while True:\n",
        "    ret,frame = cap.read()\n",
        "    if not ret:\n",
        "        break\n",
        "    draw_rois(frame)\n",
        "\n",
        "    # YOLO Model :\n",
        "    results = model(frame)\n",
        "    # Precces the Detection :\n",
        "    for result in results:\n",
        "      for detection in result.boxes:\n",
        "        x1, y1, x2, y2 = map(int, detection.xyxy[0])\n",
        "        conf = detection.conf[0] # this is the conf score\n",
        "        class_id = int(detection.cls[0]) # this is the class ID\n",
        "        # Bounding Box\n",
        "        cv2.rectangle(frame, (x1,y1), (x2,y2), (0,255,0), 2)\n",
        "        cv2.putText(frame, f'Id : {class_id}, Conf : {conf:.2f}', (x1, y1 - 10), cv2.FONT_HERSHEY_SIMPLEX, 0.5, (0,255,0), 2)\n",
        "        # Calculated the center of the bounding box\n",
        "        center_x =(x1 + x2)//2\n",
        "        center_y =(y1 + y2)//2\n",
        "        cv2.circle(frame, (center_x, center_y), 5, (0, 0, 255))\n",
        "\n",
        "        # Create a list to call the variable easer\n",
        "        exits = [\n",
        "             (top, 'top'),\n",
        "             (bottom, 'bottom'),\n",
        "             (left, 'left'),\n",
        "             (right, 'right')\n",
        "             ]\n",
        "\n",
        "       # count list based on whether it is inside or outside the center\n",
        "        counts = [direction for exit_area, direction in exits\n",
        "                    if exit_area[0] <= center_x <= exit_area[2] and exit_area[1] <= center_y <= exit_area[3]]\n",
        "\n",
        "       # Increment the count based on  match direction\n",
        "        for direction in counts:\n",
        "            if direction == 'top':\n",
        "              Top_count += 1\n",
        "            elif direction == 'bottom':\n",
        "              Bottom_count += 1\n",
        "            elif direction == 'left':\n",
        "              Left_count += 1\n",
        "            elif direction == 'right':\n",
        "              Right_count += 1\n",
        "\n",
        "      # Display vehicle counts\n",
        "      cv2.putText(frame, f'Jomanah Saad', (10,30), cv2.FONT_HERSHEY_SIMPLEX, 1, (0,0,0), 2) # The video should display your name on the top.\n",
        "      cv2.putText(frame, f'Top Count : {Top_count}', (10,30), cv2.FONT_HERSHEY_SIMPLEX, 1, (0,0,0), 2)\n",
        "      cv2.putText(frame, f'Bottom Count : {Bottom_count}', (10,60), cv2.FONT_HERSHEY_SIMPLEX, 1, (0,0,0), 2)\n",
        "      cv2.putText(frame, f'Left Count : {Left_count}', (10,90), cv2.FONT_HERSHEY_SIMPLEX, 1, (0,0,0), 2)\n",
        "      cv2.putText(frame, f'Right Count : {Right_count}', (10,120), cv2.FONT_HERSHEY_SIMPLEX, 1, (0,0,0), 2)\n",
        "\n",
        "      out.write(frame)\n"
      ],
      "metadata": {
        "colab": {
          "base_uri": "https://localhost:8080/"
        },
        "id": "pt2rcyavkOJN",
        "outputId": "a24e772c-4e00-433d-fe20-a5cb753597bb"
      },
      "id": "pt2rcyavkOJN",
      "execution_count": null,
      "outputs": [
        {
          "output_type": "stream",
          "name": "stdout",
          "text": [
            "\n",
            "0: 384x640 2 buss, 94 cars, 2 trucks, 2 vans, 2997.0ms\n",
            "Speed: 4.2ms preprocess, 2997.0ms inference, 1.3ms postprocess per image at shape (1, 3, 384, 640)\n",
            "\n",
            "0: 384x640 2 buss, 92 cars, 2 trucks, 2 vans, 2949.5ms\n",
            "Speed: 4.2ms preprocess, 2949.5ms inference, 1.5ms postprocess per image at shape (1, 3, 384, 640)\n",
            "\n",
            "0: 384x640 2 buss, 92 cars, 2 trucks, 2 vans, 3466.2ms\n",
            "Speed: 3.9ms preprocess, 3466.2ms inference, 1.5ms postprocess per image at shape (1, 3, 384, 640)\n",
            "\n",
            "0: 384x640 2 buss, 92 cars, 2 trucks, 2 vans, 3557.5ms\n",
            "Speed: 5.2ms preprocess, 3557.5ms inference, 1.3ms postprocess per image at shape (1, 3, 384, 640)\n",
            "\n",
            "0: 384x640 2 buss, 90 cars, 2 trucks, 2 vans, 2762.8ms\n",
            "Speed: 4.0ms preprocess, 2762.8ms inference, 1.1ms postprocess per image at shape (1, 3, 384, 640)\n",
            "\n",
            "0: 384x640 2 buss, 92 cars, 2 trucks, 2 vans, 2790.8ms\n",
            "Speed: 5.5ms preprocess, 2790.8ms inference, 1.3ms postprocess per image at shape (1, 3, 384, 640)\n",
            "\n",
            "0: 384x640 2 buss, 90 cars, 2 trucks, 2 vans, 3044.8ms\n",
            "Speed: 4.1ms preprocess, 3044.8ms inference, 1.8ms postprocess per image at shape (1, 3, 384, 640)\n",
            "\n",
            "0: 384x640 2 buss, 91 cars, 2 trucks, 4 vans, 3890.0ms\n",
            "Speed: 6.8ms preprocess, 3890.0ms inference, 1.3ms postprocess per image at shape (1, 3, 384, 640)\n",
            "\n",
            "0: 384x640 2 buss, 90 cars, 2 trucks, 4 vans, 3006.2ms\n",
            "Speed: 3.9ms preprocess, 3006.2ms inference, 1.2ms postprocess per image at shape (1, 3, 384, 640)\n",
            "\n",
            "0: 384x640 2 buss, 90 cars, 2 trucks, 4 vans, 3036.1ms\n",
            "Speed: 3.9ms preprocess, 3036.1ms inference, 1.2ms postprocess per image at shape (1, 3, 384, 640)\n",
            "\n",
            "0: 384x640 2 buss, 91 cars, 2 trucks, 4 vans, 3262.3ms\n",
            "Speed: 4.0ms preprocess, 3262.3ms inference, 3.4ms postprocess per image at shape (1, 3, 384, 640)\n",
            "\n",
            "0: 384x640 2 buss, 89 cars, 2 trucks, 4 vans, 4048.1ms\n",
            "Speed: 4.3ms preprocess, 4048.1ms inference, 1.3ms postprocess per image at shape (1, 3, 384, 640)\n",
            "\n",
            "0: 384x640 2 buss, 89 cars, 2 trucks, 4 vans, 3006.1ms\n",
            "Speed: 3.8ms preprocess, 3006.1ms inference, 1.2ms postprocess per image at shape (1, 3, 384, 640)\n",
            "\n",
            "0: 384x640 2 buss, 91 cars, 2 trucks, 4 vans, 2821.1ms\n",
            "Speed: 3.8ms preprocess, 2821.1ms inference, 1.2ms postprocess per image at shape (1, 3, 384, 640)\n",
            "\n",
            "0: 384x640 2 buss, 92 cars, 1 truck, 4 vans, 3037.2ms\n",
            "Speed: 3.8ms preprocess, 3037.2ms inference, 1.7ms postprocess per image at shape (1, 3, 384, 640)\n",
            "\n",
            "0: 384x640 2 buss, 91 cars, 1 truck, 4 vans, 4087.0ms\n",
            "Speed: 4.5ms preprocess, 4087.0ms inference, 1.3ms postprocess per image at shape (1, 3, 384, 640)\n",
            "\n",
            "0: 384x640 2 buss, 93 cars, 2 trucks, 3 vans, 3271.4ms\n",
            "Speed: 3.8ms preprocess, 3271.4ms inference, 1.2ms postprocess per image at shape (1, 3, 384, 640)\n",
            "\n",
            "0: 384x640 2 buss, 95 cars, 2 trucks, 3 vans, 2913.6ms\n",
            "Speed: 4.2ms preprocess, 2913.6ms inference, 1.4ms postprocess per image at shape (1, 3, 384, 640)\n",
            "\n",
            "0: 384x640 2 buss, 96 cars, 1 truck, 3 vans, 3336.7ms\n",
            "Speed: 5.3ms preprocess, 3336.7ms inference, 1.6ms postprocess per image at shape (1, 3, 384, 640)\n",
            "\n",
            "0: 384x640 2 buss, 94 cars, 1 truck, 3 vans, 3981.0ms\n",
            "Speed: 4.1ms preprocess, 3981.0ms inference, 1.3ms postprocess per image at shape (1, 3, 384, 640)\n",
            "\n",
            "0: 384x640 2 buss, 93 cars, 2 trucks, 3 vans, 2988.1ms\n",
            "Speed: 4.9ms preprocess, 2988.1ms inference, 1.4ms postprocess per image at shape (1, 3, 384, 640)\n",
            "\n",
            "0: 384x640 2 buss, 91 cars, 2 trucks, 3 vans, 3015.6ms\n",
            "Speed: 3.9ms preprocess, 3015.6ms inference, 1.7ms postprocess per image at shape (1, 3, 384, 640)\n",
            "\n",
            "0: 384x640 2 buss, 94 cars, 2 trucks, 4 vans, 3229.9ms\n",
            "Speed: 4.3ms preprocess, 3229.9ms inference, 1.6ms postprocess per image at shape (1, 3, 384, 640)\n",
            "\n",
            "0: 384x640 2 buss, 94 cars, 1 truck, 4 vans, 4059.2ms\n",
            "Speed: 4.4ms preprocess, 4059.2ms inference, 1.3ms postprocess per image at shape (1, 3, 384, 640)\n",
            "\n",
            "0: 384x640 4 buss, 93 cars, 1 truck, 5 vans, 2954.1ms\n",
            "Speed: 5.6ms preprocess, 2954.1ms inference, 1.3ms postprocess per image at shape (1, 3, 384, 640)\n",
            "\n",
            "0: 384x640 4 buss, 92 cars, 2 trucks, 5 vans, 3004.4ms\n",
            "Speed: 4.5ms preprocess, 3004.4ms inference, 1.3ms postprocess per image at shape (1, 3, 384, 640)\n",
            "\n",
            "0: 384x640 4 buss, 90 cars, 2 trucks, 5 vans, 3347.1ms\n",
            "Speed: 4.1ms preprocess, 3347.1ms inference, 1.5ms postprocess per image at shape (1, 3, 384, 640)\n",
            "\n",
            "0: 384x640 4 buss, 91 cars, 1 truck, 5 vans, 3949.0ms\n",
            "Speed: 7.0ms preprocess, 3949.0ms inference, 1.3ms postprocess per image at shape (1, 3, 384, 640)\n",
            "\n",
            "0: 384x640 4 buss, 88 cars, 1 truck, 5 vans, 3232.0ms\n",
            "Speed: 5.1ms preprocess, 3232.0ms inference, 1.3ms postprocess per image at shape (1, 3, 384, 640)\n",
            "\n",
            "0: 384x640 4 buss, 89 cars, 2 trucks, 4 vans, 3161.3ms\n",
            "Speed: 5.0ms preprocess, 3161.3ms inference, 1.6ms postprocess per image at shape (1, 3, 384, 640)\n",
            "\n",
            "0: 384x640 3 buss, 89 cars, 2 trucks, 4 vans, 3531.7ms\n",
            "Speed: 4.6ms preprocess, 3531.7ms inference, 1.6ms postprocess per image at shape (1, 3, 384, 640)\n",
            "\n",
            "0: 384x640 4 buss, 88 cars, 1 truck, 4 vans, 3538.8ms\n",
            "Speed: 5.1ms preprocess, 3538.8ms inference, 1.2ms postprocess per image at shape (1, 3, 384, 640)\n",
            "\n",
            "0: 384x640 3 buss, 89 cars, 2 trucks, 5 vans, 2990.9ms\n",
            "Speed: 3.9ms preprocess, 2990.9ms inference, 1.2ms postprocess per image at shape (1, 3, 384, 640)\n",
            "\n",
            "0: 384x640 3 buss, 86 cars, 2 trucks, 4 vans, 2963.0ms\n",
            "Speed: 3.8ms preprocess, 2963.0ms inference, 1.3ms postprocess per image at shape (1, 3, 384, 640)\n",
            "\n",
            "0: 384x640 3 buss, 88 cars, 2 trucks, 4 vans, 3427.7ms\n",
            "Speed: 5.6ms preprocess, 3427.7ms inference, 1.5ms postprocess per image at shape (1, 3, 384, 640)\n",
            "\n",
            "0: 384x640 4 buss, 87 cars, 1 truck, 4 vans, 3647.7ms\n",
            "Speed: 5.3ms preprocess, 3647.7ms inference, 1.4ms postprocess per image at shape (1, 3, 384, 640)\n",
            "\n",
            "0: 384x640 4 buss, 88 cars, 2 trucks, 3 vans, 2986.7ms\n",
            "Speed: 4.0ms preprocess, 2986.7ms inference, 1.2ms postprocess per image at shape (1, 3, 384, 640)\n",
            "\n",
            "0: 384x640 4 buss, 87 cars, 2 trucks, 3 vans, 2920.1ms\n",
            "Speed: 4.3ms preprocess, 2920.1ms inference, 1.3ms postprocess per image at shape (1, 3, 384, 640)\n",
            "\n",
            "0: 384x640 4 buss, 90 cars, 2 trucks, 4 vans, 3378.0ms\n",
            "Speed: 4.6ms preprocess, 3378.0ms inference, 3.7ms postprocess per image at shape (1, 3, 384, 640)\n",
            "\n",
            "0: 384x640 4 buss, 89 cars, 1 truck, 3 vans, 3721.6ms\n",
            "Speed: 4.4ms preprocess, 3721.6ms inference, 1.5ms postprocess per image at shape (1, 3, 384, 640)\n",
            "\n",
            "0: 384x640 3 buss, 88 cars, 1 truck, 3 vans, 2894.9ms\n",
            "Speed: 4.1ms preprocess, 2894.9ms inference, 1.6ms postprocess per image at shape (1, 3, 384, 640)\n",
            "\n",
            "0: 384x640 3 buss, 88 cars, 2 trucks, 3 vans, 2881.1ms\n",
            "Speed: 4.5ms preprocess, 2881.1ms inference, 1.3ms postprocess per image at shape (1, 3, 384, 640)\n",
            "\n",
            "0: 384x640 4 buss, 86 cars, 2 trucks, 2 vans, 3237.6ms\n",
            "Speed: 5.1ms preprocess, 3237.6ms inference, 1.6ms postprocess per image at shape (1, 3, 384, 640)\n",
            "\n",
            "0: 384x640 3 buss, 88 cars, 2 trucks, 2 vans, 4129.7ms\n",
            "Speed: 4.5ms preprocess, 4129.7ms inference, 1.2ms postprocess per image at shape (1, 3, 384, 640)\n",
            "\n",
            "0: 384x640 3 buss, 92 cars, 2 trucks, 4 vans, 2878.4ms\n",
            "Speed: 3.1ms preprocess, 2878.4ms inference, 1.2ms postprocess per image at shape (1, 3, 384, 640)\n",
            "\n",
            "0: 384x640 3 buss, 91 cars, 2 trucks, 2 vans, 2991.7ms\n",
            "Speed: 4.2ms preprocess, 2991.7ms inference, 1.2ms postprocess per image at shape (1, 3, 384, 640)\n",
            "\n",
            "0: 384x640 3 buss, 88 cars, 2 trucks, 3 vans, 3695.0ms\n",
            "Speed: 5.3ms preprocess, 3695.0ms inference, 1.5ms postprocess per image at shape (1, 3, 384, 640)\n",
            "\n",
            "0: 384x640 3 buss, 91 cars, 2 trucks, 3 vans, 4374.2ms\n",
            "Speed: 4.7ms preprocess, 4374.2ms inference, 1.2ms postprocess per image at shape (1, 3, 384, 640)\n",
            "\n",
            "0: 384x640 3 buss, 87 cars, 2 trucks, 3 vans, 2884.8ms\n",
            "Speed: 3.8ms preprocess, 2884.8ms inference, 1.4ms postprocess per image at shape (1, 3, 384, 640)\n",
            "\n",
            "0: 384x640 3 buss, 89 cars, 3 trucks, 3 vans, 2995.1ms\n",
            "Speed: 5.2ms preprocess, 2995.1ms inference, 1.3ms postprocess per image at shape (1, 3, 384, 640)\n",
            "\n",
            "0: 384x640 3 buss, 90 cars, 2 trucks, 3 vans, 3243.8ms\n",
            "Speed: 3.8ms preprocess, 3243.8ms inference, 1.6ms postprocess per image at shape (1, 3, 384, 640)\n",
            "\n",
            "0: 384x640 3 buss, 88 cars, 2 trucks, 4 vans, 4041.6ms\n",
            "Speed: 5.1ms preprocess, 4041.6ms inference, 1.3ms postprocess per image at shape (1, 3, 384, 640)\n",
            "\n",
            "0: 384x640 3 buss, 92 cars, 3 trucks, 3 vans, 2982.3ms\n",
            "Speed: 4.7ms preprocess, 2982.3ms inference, 1.1ms postprocess per image at shape (1, 3, 384, 640)\n",
            "\n",
            "0: 384x640 3 buss, 90 cars, 2 trucks, 3 vans, 2873.8ms\n",
            "Speed: 3.7ms preprocess, 2873.8ms inference, 1.2ms postprocess per image at shape (1, 3, 384, 640)\n",
            "\n",
            "0: 384x640 3 buss, 91 cars, 2 trucks, 3 vans, 3125.3ms\n",
            "Speed: 3.7ms preprocess, 3125.3ms inference, 1.9ms postprocess per image at shape (1, 3, 384, 640)\n",
            "\n",
            "0: 384x640 3 buss, 90 cars, 2 trucks, 2 vans, 4149.6ms\n",
            "Speed: 11.2ms preprocess, 4149.6ms inference, 1.2ms postprocess per image at shape (1, 3, 384, 640)\n",
            "\n",
            "0: 384x640 3 buss, 91 cars, 2 trucks, 3 vans, 3143.1ms\n",
            "Speed: 4.7ms preprocess, 3143.1ms inference, 1.2ms postprocess per image at shape (1, 3, 384, 640)\n",
            "\n",
            "0: 384x640 4 buss, 89 cars, 2 trucks, 3 vans, 2952.2ms\n",
            "Speed: 3.2ms preprocess, 2952.2ms inference, 1.3ms postprocess per image at shape (1, 3, 384, 640)\n",
            "\n",
            "0: 384x640 3 buss, 90 cars, 2 trucks, 3 vans, 3046.9ms\n",
            "Speed: 4.0ms preprocess, 3046.9ms inference, 1.6ms postprocess per image at shape (1, 3, 384, 640)\n",
            "\n",
            "0: 384x640 3 buss, 92 cars, 2 trucks, 3 vans, 3995.2ms\n",
            "Speed: 4.1ms preprocess, 3995.2ms inference, 1.7ms postprocess per image at shape (1, 3, 384, 640)\n",
            "\n",
            "0: 384x640 4 buss, 89 cars, 2 trucks, 3 vans, 2877.7ms\n",
            "Speed: 3.7ms preprocess, 2877.7ms inference, 1.2ms postprocess per image at shape (1, 3, 384, 640)\n",
            "\n",
            "0: 384x640 4 buss, 91 cars, 2 trucks, 3 vans, 3214.9ms\n",
            "Speed: 4.3ms preprocess, 3214.9ms inference, 1.7ms postprocess per image at shape (1, 3, 384, 640)\n",
            "\n",
            "0: 384x640 3 buss, 93 cars, 2 trucks, 3 vans, 3101.2ms\n",
            "Speed: 4.2ms preprocess, 3101.2ms inference, 1.8ms postprocess per image at shape (1, 3, 384, 640)\n",
            "\n",
            "0: 384x640 3 buss, 92 cars, 2 trucks, 3 vans, 4265.3ms\n",
            "Speed: 6.9ms preprocess, 4265.3ms inference, 1.3ms postprocess per image at shape (1, 3, 384, 640)\n",
            "\n",
            "0: 384x640 4 buss, 90 cars, 2 trucks, 3 vans, 3114.2ms\n",
            "Speed: 3.8ms preprocess, 3114.2ms inference, 1.3ms postprocess per image at shape (1, 3, 384, 640)\n",
            "\n",
            "0: 384x640 4 buss, 89 cars, 2 trucks, 3 vans, 2972.4ms\n",
            "Speed: 9.0ms preprocess, 2972.4ms inference, 1.2ms postprocess per image at shape (1, 3, 384, 640)\n",
            "\n",
            "0: 384x640 3 buss, 92 cars, 2 trucks, 3 vans, 3374.4ms\n",
            "Speed: 4.2ms preprocess, 3374.4ms inference, 1.6ms postprocess per image at shape (1, 3, 384, 640)\n",
            "\n",
            "0: 384x640 3 buss, 90 cars, 2 trucks, 3 vans, 3811.6ms\n",
            "Speed: 4.1ms preprocess, 3811.6ms inference, 1.4ms postprocess per image at shape (1, 3, 384, 640)\n",
            "\n",
            "0: 384x640 3 buss, 90 cars, 2 trucks, 3 vans, 2862.4ms\n",
            "Speed: 5.6ms preprocess, 2862.4ms inference, 1.8ms postprocess per image at shape (1, 3, 384, 640)\n",
            "\n",
            "0: 384x640 3 buss, 92 cars, 2 trucks, 3 vans, 2857.9ms\n",
            "Speed: 3.6ms preprocess, 2857.9ms inference, 1.2ms postprocess per image at shape (1, 3, 384, 640)\n",
            "\n",
            "0: 384x640 3 buss, 93 cars, 2 trucks, 3 vans, 3150.3ms\n",
            "Speed: 4.7ms preprocess, 3150.3ms inference, 1.9ms postprocess per image at shape (1, 3, 384, 640)\n",
            "\n",
            "0: 384x640 4 buss, 95 cars, 2 trucks, 3 vans, 3940.2ms\n",
            "Speed: 4.1ms preprocess, 3940.2ms inference, 1.2ms postprocess per image at shape (1, 3, 384, 640)\n",
            "\n",
            "0: 384x640 3 buss, 96 cars, 2 trucks, 3 vans, 2839.8ms\n",
            "Speed: 3.8ms preprocess, 2839.8ms inference, 1.7ms postprocess per image at shape (1, 3, 384, 640)\n",
            "\n",
            "0: 384x640 3 buss, 94 cars, 2 trucks, 3 vans, 2861.8ms\n",
            "Speed: 3.9ms preprocess, 2861.8ms inference, 1.2ms postprocess per image at shape (1, 3, 384, 640)\n",
            "\n",
            "0: 384x640 4 buss, 93 cars, 2 trucks, 2 vans, 2953.0ms\n",
            "Speed: 4.4ms preprocess, 2953.0ms inference, 1.2ms postprocess per image at shape (1, 3, 384, 640)\n",
            "\n",
            "0: 384x640 3 buss, 94 cars, 2 trucks, 3 vans, 4075.1ms\n",
            "Speed: 4.4ms preprocess, 4075.1ms inference, 1.2ms postprocess per image at shape (1, 3, 384, 640)\n",
            "\n",
            "0: 384x640 3 buss, 94 cars, 2 trucks, 3 vans, 2866.4ms\n",
            "Speed: 3.9ms preprocess, 2866.4ms inference, 1.2ms postprocess per image at shape (1, 3, 384, 640)\n",
            "\n",
            "0: 384x640 3 buss, 91 cars, 2 trucks, 3 vans, 2858.3ms\n",
            "Speed: 4.4ms preprocess, 2858.3ms inference, 1.2ms postprocess per image at shape (1, 3, 384, 640)\n",
            "\n",
            "0: 384x640 3 buss, 93 cars, 2 trucks, 3 vans, 2853.9ms\n",
            "Speed: 5.0ms preprocess, 2853.9ms inference, 1.2ms postprocess per image at shape (1, 3, 384, 640)\n",
            "\n",
            "0: 384x640 3 buss, 92 cars, 2 trucks, 3 vans, 4101.4ms\n",
            "Speed: 4.5ms preprocess, 4101.4ms inference, 1.2ms postprocess per image at shape (1, 3, 384, 640)\n",
            "\n",
            "0: 384x640 3 buss, 95 cars, 3 trucks, 3 vans, 2893.5ms\n",
            "Speed: 4.4ms preprocess, 2893.5ms inference, 1.2ms postprocess per image at shape (1, 3, 384, 640)\n",
            "\n",
            "0: 384x640 3 buss, 97 cars, 2 trucks, 3 vans, 2992.4ms\n",
            "Speed: 6.2ms preprocess, 2992.4ms inference, 1.6ms postprocess per image at shape (1, 3, 384, 640)\n",
            "\n",
            "0: 384x640 3 buss, 95 cars, 2 trucks, 3 vans, 2889.5ms\n",
            "Speed: 4.1ms preprocess, 2889.5ms inference, 1.2ms postprocess per image at shape (1, 3, 384, 640)\n",
            "\n",
            "0: 384x640 3 buss, 95 cars, 2 trucks, 3 vans, 4213.0ms\n",
            "Speed: 5.2ms preprocess, 4213.0ms inference, 1.2ms postprocess per image at shape (1, 3, 384, 640)\n",
            "\n",
            "0: 384x640 3 buss, 97 cars, 2 trucks, 3 vans, 2873.0ms\n",
            "Speed: 3.2ms preprocess, 2873.0ms inference, 1.3ms postprocess per image at shape (1, 3, 384, 640)\n",
            "\n",
            "0: 384x640 3 buss, 94 cars, 2 trucks, 3 vans, 2898.7ms\n",
            "Speed: 6.9ms preprocess, 2898.7ms inference, 1.2ms postprocess per image at shape (1, 3, 384, 640)\n",
            "\n",
            "0: 384x640 3 buss, 90 cars, 2 trucks, 3 vans, 2851.9ms\n",
            "Speed: 4.3ms preprocess, 2851.9ms inference, 2.1ms postprocess per image at shape (1, 3, 384, 640)\n",
            "\n",
            "0: 384x640 3 buss, 93 cars, 2 trucks, 3 vans, 4166.1ms\n",
            "Speed: 4.9ms preprocess, 4166.1ms inference, 1.9ms postprocess per image at shape (1, 3, 384, 640)\n",
            "\n",
            "0: 384x640 3 buss, 92 cars, 2 trucks, 3 vans, 2940.7ms\n",
            "Speed: 4.8ms preprocess, 2940.7ms inference, 1.2ms postprocess per image at shape (1, 3, 384, 640)\n",
            "\n",
            "0: 384x640 3 buss, 92 cars, 2 trucks, 3 vans, 2955.1ms\n",
            "Speed: 5.8ms preprocess, 2955.1ms inference, 1.2ms postprocess per image at shape (1, 3, 384, 640)\n",
            "\n",
            "0: 384x640 3 buss, 92 cars, 2 trucks, 3 vans, 2854.0ms\n",
            "Speed: 3.7ms preprocess, 2854.0ms inference, 1.2ms postprocess per image at shape (1, 3, 384, 640)\n",
            "\n",
            "0: 384x640 3 buss, 94 cars, 2 trucks, 3 vans, 4009.7ms\n",
            "Speed: 3.9ms preprocess, 4009.7ms inference, 1.7ms postprocess per image at shape (1, 3, 384, 640)\n",
            "\n",
            "0: 384x640 3 buss, 94 cars, 2 trucks, 3 vans, 3171.8ms\n",
            "Speed: 6.2ms preprocess, 3171.8ms inference, 1.3ms postprocess per image at shape (1, 3, 384, 640)\n",
            "\n",
            "0: 384x640 3 buss, 97 cars, 2 trucks, 3 vans, 2932.5ms\n",
            "Speed: 5.1ms preprocess, 2932.5ms inference, 1.2ms postprocess per image at shape (1, 3, 384, 640)\n",
            "\n",
            "0: 384x640 5 buss, 96 cars, 2 trucks, 3 vans, 2915.2ms\n",
            "Speed: 4.6ms preprocess, 2915.2ms inference, 1.3ms postprocess per image at shape (1, 3, 384, 640)\n",
            "\n",
            "0: 384x640 3 buss, 94 cars, 2 trucks, 3 vans, 4128.2ms\n",
            "Speed: 5.2ms preprocess, 4128.2ms inference, 2.0ms postprocess per image at shape (1, 3, 384, 640)\n",
            "\n",
            "0: 384x640 3 buss, 97 cars, 2 trucks, 3 vans, 2970.0ms\n",
            "Speed: 4.2ms preprocess, 2970.0ms inference, 1.2ms postprocess per image at shape (1, 3, 384, 640)\n",
            "\n",
            "0: 384x640 4 buss, 96 cars, 2 trucks, 3 vans, 2873.5ms\n",
            "Speed: 4.6ms preprocess, 2873.5ms inference, 1.2ms postprocess per image at shape (1, 3, 384, 640)\n",
            "\n",
            "0: 384x640 3 buss, 97 cars, 2 trucks, 3 vans, 2872.1ms\n",
            "Speed: 4.1ms preprocess, 2872.1ms inference, 1.2ms postprocess per image at shape (1, 3, 384, 640)\n",
            "\n",
            "0: 384x640 3 buss, 98 cars, 2 trucks, 3 vans, 3973.2ms\n",
            "Speed: 4.3ms preprocess, 3973.2ms inference, 1.8ms postprocess per image at shape (1, 3, 384, 640)\n",
            "\n",
            "0: 384x640 3 buss, 97 cars, 2 trucks, 3 vans, 3061.9ms\n",
            "Speed: 7.5ms preprocess, 3061.9ms inference, 1.3ms postprocess per image at shape (1, 3, 384, 640)\n",
            "\n",
            "0: 384x640 3 buss, 94 cars, 2 trucks, 3 vans, 2970.1ms\n",
            "Speed: 4.5ms preprocess, 2970.1ms inference, 1.2ms postprocess per image at shape (1, 3, 384, 640)\n",
            "\n",
            "0: 384x640 3 buss, 92 cars, 2 trucks, 3 vans, 2890.3ms\n",
            "Speed: 4.9ms preprocess, 2890.3ms inference, 1.4ms postprocess per image at shape (1, 3, 384, 640)\n",
            "\n",
            "0: 384x640 3 buss, 95 cars, 2 trucks, 3 vans, 3774.6ms\n",
            "Speed: 3.8ms preprocess, 3774.6ms inference, 2.0ms postprocess per image at shape (1, 3, 384, 640)\n",
            "\n",
            "0: 384x640 3 buss, 95 cars, 2 trucks, 3 vans, 3427.3ms\n",
            "Speed: 4.5ms preprocess, 3427.3ms inference, 1.3ms postprocess per image at shape (1, 3, 384, 640)\n",
            "\n",
            "0: 384x640 3 buss, 94 cars, 2 trucks, 3 vans, 2913.9ms\n",
            "Speed: 4.0ms preprocess, 2913.9ms inference, 1.4ms postprocess per image at shape (1, 3, 384, 640)\n",
            "\n",
            "0: 384x640 3 buss, 96 cars, 2 trucks, 3 vans, 2862.9ms\n",
            "Speed: 4.3ms preprocess, 2862.9ms inference, 1.3ms postprocess per image at shape (1, 3, 384, 640)\n",
            "\n",
            "0: 384x640 3 buss, 97 cars, 2 trucks, 3 vans, 3835.0ms\n",
            "Speed: 4.6ms preprocess, 3835.0ms inference, 2.0ms postprocess per image at shape (1, 3, 384, 640)\n",
            "\n",
            "0: 384x640 3 buss, 94 cars, 2 trucks, 3 vans, 3091.4ms\n",
            "Speed: 3.9ms preprocess, 3091.4ms inference, 1.2ms postprocess per image at shape (1, 3, 384, 640)\n",
            "\n",
            "0: 384x640 3 buss, 96 cars, 2 trucks, 3 vans, 2806.2ms\n",
            "Speed: 5.1ms preprocess, 2806.2ms inference, 1.3ms postprocess per image at shape (1, 3, 384, 640)\n",
            "\n",
            "0: 384x640 3 buss, 96 cars, 2 trucks, 3 vans, 2874.2ms\n",
            "Speed: 4.0ms preprocess, 2874.2ms inference, 1.2ms postprocess per image at shape (1, 3, 384, 640)\n",
            "\n",
            "0: 384x640 3 buss, 96 cars, 2 trucks, 3 vans, 3477.0ms\n",
            "Speed: 3.4ms preprocess, 3477.0ms inference, 3.3ms postprocess per image at shape (1, 3, 384, 640)\n",
            "\n",
            "0: 384x640 3 buss, 96 cars, 2 trucks, 3 vans, 3447.8ms\n",
            "Speed: 4.3ms preprocess, 3447.8ms inference, 1.2ms postprocess per image at shape (1, 3, 384, 640)\n",
            "\n",
            "0: 384x640 4 buss, 95 cars, 2 trucks, 3 vans, 2895.6ms\n",
            "Speed: 3.8ms preprocess, 2895.6ms inference, 1.3ms postprocess per image at shape (1, 3, 384, 640)\n",
            "\n",
            "0: 384x640 3 buss, 96 cars, 2 trucks, 3 vans, 2823.5ms\n",
            "Speed: 11.2ms preprocess, 2823.5ms inference, 1.3ms postprocess per image at shape (1, 3, 384, 640)\n",
            "\n",
            "0: 384x640 4 buss, 95 cars, 2 trucks, 3 vans, 3251.6ms\n",
            "Speed: 4.0ms preprocess, 3251.6ms inference, 1.5ms postprocess per image at shape (1, 3, 384, 640)\n",
            "\n",
            "0: 384x640 3 buss, 96 cars, 2 trucks, 3 vans, 3614.7ms\n",
            "Speed: 8.0ms preprocess, 3614.7ms inference, 1.3ms postprocess per image at shape (1, 3, 384, 640)\n",
            "\n",
            "0: 384x640 4 buss, 96 cars, 2 trucks, 3 vans, 2872.4ms\n",
            "Speed: 3.9ms preprocess, 2872.4ms inference, 1.2ms postprocess per image at shape (1, 3, 384, 640)\n",
            "\n",
            "0: 384x640 3 buss, 97 cars, 2 trucks, 3 vans, 2813.4ms\n",
            "Speed: 3.9ms preprocess, 2813.4ms inference, 1.2ms postprocess per image at shape (1, 3, 384, 640)\n",
            "\n",
            "0: 384x640 3 buss, 99 cars, 2 trucks, 3 vans, 2933.8ms\n",
            "Speed: 4.4ms preprocess, 2933.8ms inference, 1.6ms postprocess per image at shape (1, 3, 384, 640)\n",
            "\n",
            "0: 384x640 3 buss, 99 cars, 2 trucks, 2 vans, 3971.2ms\n",
            "Speed: 5.3ms preprocess, 3971.2ms inference, 1.2ms postprocess per image at shape (1, 3, 384, 640)\n",
            "\n",
            "0: 384x640 3 buss, 97 cars, 2 trucks, 2 vans, 2797.9ms\n",
            "Speed: 2.9ms preprocess, 2797.9ms inference, 1.5ms postprocess per image at shape (1, 3, 384, 640)\n",
            "\n",
            "0: 384x640 4 buss, 97 cars, 2 trucks, 4 vans, 2814.8ms\n",
            "Speed: 3.9ms preprocess, 2814.8ms inference, 1.2ms postprocess per image at shape (1, 3, 384, 640)\n",
            "\n",
            "0: 384x640 3 buss, 97 cars, 1 truck, 4 vans, 2867.0ms\n",
            "Speed: 5.9ms preprocess, 2867.0ms inference, 1.2ms postprocess per image at shape (1, 3, 384, 640)\n",
            "\n",
            "0: 384x640 3 buss, 96 cars, 1 truck, 2 vans, 4079.0ms\n",
            "Speed: 3.2ms preprocess, 4079.0ms inference, 1.2ms postprocess per image at shape (1, 3, 384, 640)\n",
            "\n",
            "0: 384x640 3 buss, 95 cars, 1 truck, 3 vans, 2807.1ms\n",
            "Speed: 4.1ms preprocess, 2807.1ms inference, 1.2ms postprocess per image at shape (1, 3, 384, 640)\n",
            "\n",
            "0: 384x640 3 buss, 94 cars, 1 truck, 3 vans, 2773.2ms\n",
            "Speed: 4.1ms preprocess, 2773.2ms inference, 1.3ms postprocess per image at shape (1, 3, 384, 640)\n",
            "\n",
            "0: 384x640 3 buss, 93 cars, 1 truck, 3 vans, 2767.8ms\n",
            "Speed: 4.2ms preprocess, 2767.8ms inference, 1.2ms postprocess per image at shape (1, 3, 384, 640)\n",
            "\n",
            "0: 384x640 3 buss, 94 cars, 2 trucks, 3 vans, 4008.7ms\n",
            "Speed: 3.7ms preprocess, 4008.7ms inference, 1.7ms postprocess per image at shape (1, 3, 384, 640)\n",
            "\n",
            "0: 384x640 3 buss, 94 cars, 1 truck, 3 vans, 2858.3ms\n",
            "Speed: 4.0ms preprocess, 2858.3ms inference, 1.2ms postprocess per image at shape (1, 3, 384, 640)\n",
            "\n",
            "0: 384x640 3 buss, 96 cars, 1 truck, 3 vans, 2852.7ms\n",
            "Speed: 3.8ms preprocess, 2852.7ms inference, 1.2ms postprocess per image at shape (1, 3, 384, 640)\n",
            "\n",
            "0: 384x640 3 buss, 97 cars, 1 truck, 3 vans, 2851.4ms\n",
            "Speed: 4.0ms preprocess, 2851.4ms inference, 1.3ms postprocess per image at shape (1, 3, 384, 640)\n",
            "\n",
            "0: 384x640 3 buss, 94 cars, 1 truck, 3 vans, 3806.1ms\n",
            "Speed: 3.8ms preprocess, 3806.1ms inference, 1.8ms postprocess per image at shape (1, 3, 384, 640)\n",
            "\n",
            "0: 384x640 3 buss, 93 cars, 1 truck, 3 vans, 2976.7ms\n",
            "Speed: 5.3ms preprocess, 2976.7ms inference, 1.2ms postprocess per image at shape (1, 3, 384, 640)\n",
            "\n",
            "0: 384x640 3 buss, 90 cars, 1 truck, 4 vans, 2841.7ms\n",
            "Speed: 3.8ms preprocess, 2841.7ms inference, 1.2ms postprocess per image at shape (1, 3, 384, 640)\n",
            "\n",
            "0: 384x640 3 buss, 90 cars, 1 truck, 4 vans, 2881.2ms\n",
            "Speed: 4.4ms preprocess, 2881.2ms inference, 1.2ms postprocess per image at shape (1, 3, 384, 640)\n",
            "\n",
            "0: 384x640 3 buss, 91 cars, 1 truck, 4 vans, 3521.2ms\n",
            "Speed: 3.9ms preprocess, 3521.2ms inference, 1.7ms postprocess per image at shape (1, 3, 384, 640)\n",
            "\n",
            "0: 384x640 3 buss, 94 cars, 1 truck, 5 vans, 3235.5ms\n",
            "Speed: 4.0ms preprocess, 3235.5ms inference, 1.2ms postprocess per image at shape (1, 3, 384, 640)\n",
            "\n",
            "0: 384x640 3 buss, 94 cars, 1 truck, 5 vans, 2827.1ms\n",
            "Speed: 4.1ms preprocess, 2827.1ms inference, 1.3ms postprocess per image at shape (1, 3, 384, 640)\n",
            "\n",
            "0: 384x640 3 buss, 94 cars, 1 truck, 4 vans, 2832.2ms\n",
            "Speed: 4.1ms preprocess, 2832.2ms inference, 1.3ms postprocess per image at shape (1, 3, 384, 640)\n",
            "\n",
            "0: 384x640 3 buss, 95 cars, 1 truck, 5 vans, 3214.3ms\n",
            "Speed: 4.1ms preprocess, 3214.3ms inference, 1.6ms postprocess per image at shape (1, 3, 384, 640)\n",
            "\n",
            "0: 384x640 3 buss, 97 cars, 1 truck, 4 vans, 3611.0ms\n",
            "Speed: 4.3ms preprocess, 3611.0ms inference, 1.3ms postprocess per image at shape (1, 3, 384, 640)\n",
            "\n",
            "0: 384x640 3 buss, 94 cars, 1 truck, 4 vans, 2827.4ms\n",
            "Speed: 4.4ms preprocess, 2827.4ms inference, 1.2ms postprocess per image at shape (1, 3, 384, 640)\n",
            "\n",
            "0: 384x640 3 buss, 97 cars, 1 truck, 4 vans, 2812.6ms\n",
            "Speed: 3.4ms preprocess, 2812.6ms inference, 1.2ms postprocess per image at shape (1, 3, 384, 640)\n",
            "\n",
            "0: 384x640 3 buss, 98 cars, 1 truck, 4 vans, 2898.2ms\n",
            "Speed: 3.8ms preprocess, 2898.2ms inference, 1.6ms postprocess per image at shape (1, 3, 384, 640)\n",
            "\n",
            "0: 384x640 4 buss, 95 cars, 1 truck, 4 vans, 3885.5ms\n",
            "Speed: 3.8ms preprocess, 3885.5ms inference, 1.2ms postprocess per image at shape (1, 3, 384, 640)\n",
            "\n",
            "0: 384x640 4 buss, 96 cars, 1 truck, 4 vans, 2788.0ms\n",
            "Speed: 4.6ms preprocess, 2788.0ms inference, 1.2ms postprocess per image at shape (1, 3, 384, 640)\n",
            "\n",
            "0: 384x640 4 buss, 97 cars, 1 truck, 4 vans, 2755.5ms\n",
            "Speed: 3.9ms preprocess, 2755.5ms inference, 1.3ms postprocess per image at shape (1, 3, 384, 640)\n",
            "\n",
            "0: 384x640 4 buss, 97 cars, 1 truck, 4 vans, 2845.1ms\n",
            "Speed: 2.9ms preprocess, 2845.1ms inference, 1.4ms postprocess per image at shape (1, 3, 384, 640)\n",
            "\n",
            "0: 384x640 4 buss, 97 cars, 1 truck, 4 vans, 4097.7ms\n",
            "Speed: 3.9ms preprocess, 4097.7ms inference, 1.1ms postprocess per image at shape (1, 3, 384, 640)\n",
            "\n",
            "0: 384x640 4 buss, 96 cars, 1 truck, 4 vans, 2838.4ms\n",
            "Speed: 3.9ms preprocess, 2838.4ms inference, 1.2ms postprocess per image at shape (1, 3, 384, 640)\n",
            "\n",
            "0: 384x640 4 buss, 97 cars, 1 truck, 4 vans, 2873.3ms\n",
            "Speed: 3.8ms preprocess, 2873.3ms inference, 1.2ms postprocess per image at shape (1, 3, 384, 640)\n",
            "\n",
            "0: 384x640 4 buss, 98 cars, 1 truck, 4 vans, 2821.1ms\n",
            "Speed: 4.1ms preprocess, 2821.1ms inference, 1.2ms postprocess per image at shape (1, 3, 384, 640)\n",
            "\n",
            "0: 384x640 3 buss, 98 cars, 1 truck, 5 vans, 4036.1ms\n",
            "Speed: 3.8ms preprocess, 4036.1ms inference, 2.2ms postprocess per image at shape (1, 3, 384, 640)\n",
            "\n",
            "0: 384x640 3 buss, 98 cars, 1 truck, 5 vans, 2775.2ms\n",
            "Speed: 5.4ms preprocess, 2775.2ms inference, 1.2ms postprocess per image at shape (1, 3, 384, 640)\n",
            "\n",
            "0: 384x640 3 buss, 98 cars, 1 truck, 3 vans, 2783.6ms\n",
            "Speed: 4.0ms preprocess, 2783.6ms inference, 1.2ms postprocess per image at shape (1, 3, 384, 640)\n",
            "\n"
          ]
        }
      ]
    },
    {
      "cell_type": "code",
      "source": [
        "# resources\n",
        "cap.release()\n",
        "out.release()\n",
        "cv2.destroyAllWindows()"
      ],
      "metadata": {
        "id": "H8jyVfg2Y3yg"
      },
      "id": "H8jyVfg2Y3yg",
      "execution_count": null,
      "outputs": []
    },
    {
      "cell_type": "markdown",
      "id": "71d3083e",
      "metadata": {
        "id": "71d3083e"
      },
      "source": [
        "## Save and Submit Your Work"
      ]
    },
    {
      "cell_type": "markdown",
      "id": "ae5e33ac",
      "metadata": {
        "id": "ae5e33ac"
      },
      "source": [
        "Submit both the notebook and the output video"
      ]
    }
  ],
  "metadata": {
    "language_info": {
      "name": "python"
    },
    "colab": {
      "provenance": []
    },
    "kernelspec": {
      "name": "python3",
      "display_name": "Python 3"
    }
  },
  "nbformat": 4,
  "nbformat_minor": 5
}